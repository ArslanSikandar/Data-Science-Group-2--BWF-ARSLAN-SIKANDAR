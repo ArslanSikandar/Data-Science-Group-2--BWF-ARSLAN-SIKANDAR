{
 "cells": [
  {
   "cell_type": "code",
   "execution_count": 11,
   "id": "6df18fa3-7df5-4c0d-b6bb-73043215acf6",
   "metadata": {},
   "outputs": [
    {
     "name": "stdout",
     "output_type": "stream",
     "text": [
      "Basic Calculator\n"
     ]
    },
    {
     "name": "stdin",
     "output_type": "stream",
     "text": [
      "Enter Operator For Desired Output:........ +\n",
      "Enter First Number.....: 1\n",
      "Enter Second Number.....: 2\n"
     ]
    },
    {
     "name": "stdout",
     "output_type": "stream",
     "text": [
      "The Answer is:  12\n"
     ]
    }
   ],
   "source": []
  },
  {
   "cell_type": "code",
   "execution_count": 23,
   "id": "730ebef5-533b-44c2-8a3b-73a6d9aff604",
   "metadata": {},
   "outputs": [
    {
     "name": "stdout",
     "output_type": "stream",
     "text": [
      "Basic Calculator\n"
     ]
    },
    {
     "name": "stdin",
     "output_type": "stream",
     "text": [
      "Enter the type of operation you want to perform (+, -, *, /, %):  *\n",
      "Enter First Number.....: 3\n",
      "Enter Second Number.....: 4\n"
     ]
    },
    {
     "name": "stdout",
     "output_type": "stream",
     "text": [
      "The Answer is..... 12.0\n"
     ]
    }
   ],
   "source": [
    "print(\"Basic Calculator\")\n",
    "oper = input(\"Enter the type of operation you want to perform (+, -, *, /, %): \")\n",
    "if oper == '+' :\n",
    "  a=float(input(\"Enter First Number.....:\"))\n",
    "  b=float(input(\"Enter Second Number.....:\"))\n",
    "  result= a+b\n",
    "  print(\"The Answer is.....\", result)\n",
    "elif oper== '-':\n",
    "   a=float(input(\"Enter First Number.....:\"))\n",
    "   b=float(input(\"Enter Second Number.....:\"))\n",
    "   result= a-b\n",
    "   print(\"The Answer is.....\", result) \n",
    "elif oper=='/':\n",
    "  a=float(input(\"Enter First Number.....:\"))\n",
    "  b=float(input(\"Enter Second Number.....:\"))\n",
    "  result= a/b\n",
    "  print(\"The Answer is.....\", result)\n",
    "elif oper=='*':\n",
    "  a=float(input(\"Enter First Number.....:\"))\n",
    "  b=float(input(\"Enter Second Number.....:\"))\n",
    "  result= a*b\n",
    "  print(\"The Answer is.....\", result)\n",
    "else:\n",
    " print(\"You Entered Wrong Input\")\n",
    "    \n"
   ]
  },
  {
   "cell_type": "code",
   "execution_count": null,
   "id": "561856f0-c238-40a5-8d3b-86a4087e533b",
   "metadata": {},
   "outputs": [],
   "source": []
  }
 ],
 "metadata": {
  "kernelspec": {
   "display_name": "Python 3 (ipykernel)",
   "language": "python",
   "name": "python3"
  },
  "language_info": {
   "codemirror_mode": {
    "name": "ipython",
    "version": 3
   },
   "file_extension": ".py",
   "mimetype": "text/x-python",
   "name": "python",
   "nbconvert_exporter": "python",
   "pygments_lexer": "ipython3",
   "version": "3.11.7"
  }
 },
 "nbformat": 4,
 "nbformat_minor": 5
}
